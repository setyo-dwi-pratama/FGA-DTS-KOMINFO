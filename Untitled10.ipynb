{
  "nbformat": 4,
  "nbformat_minor": 0,
  "metadata": {
    "colab": {
      "name": "Untitled10.ipynb",
      "provenance": [],
      "authorship_tag": "ABX9TyOZ1zCoQrIouzb+qWA6iIDP",
      "include_colab_link": true
    },
    "kernelspec": {
      "name": "python3",
      "display_name": "Python 3"
    }
  },
  "cells": [
    {
      "cell_type": "markdown",
      "metadata": {
        "id": "view-in-github",
        "colab_type": "text"
      },
      "source": [
        "<a href=\"https://colab.research.google.com/github/setyo-dwi-pratama/FGA-DTS-KOMINFO/blob/main/Untitled10.ipynb\" target=\"_parent\"><img src=\"https://colab.research.google.com/assets/colab-badge.svg\" alt=\"Open In Colab\"/></a>"
      ]
    },
    {
      "cell_type": "code",
      "metadata": {
        "id": "e3pVFJPJS89Y"
      },
      "source": [
        "import pandas as pd\n",
        "import numpy as np\n",
        "import matplotlib.pyplot as plt"
      ],
      "execution_count": 1,
      "outputs": []
    },
    {
      "cell_type": "code",
      "metadata": {
        "id": "HxN-DLCIVhfg"
      },
      "source": [
        "#https://raw.githubusercontent.com/setyo-dwi-pratama/FGA-DTS-KOMINFO/main/age_gender_bkts.csv\n",
        "#https://raw.githubusercontent.com/setyo-dwi-pratama/FGA-DTS-KOMINFO/main/countries.csv\n",
        "#https://raw.githubusercontent.com/setyo-dwi-pratama/FGA-DTS-KOMINFO/main/sample_submission_NDF.csv\n",
        "#https://raw.githubusercontent.com/setyo-dwi-pratama/FGA-DTS-KOMINFO/main/test_users.csv\n",
        "#https://raw.githubusercontent.com/setyo-dwi-pratama/FGA-DTS-KOMINFO/main/train_users_2.csv"
      ],
      "execution_count": null,
      "outputs": []
    }
  ]
}