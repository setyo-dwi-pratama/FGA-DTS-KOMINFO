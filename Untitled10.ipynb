{
  "nbformat": 4,
  "nbformat_minor": 0,
  "metadata": {
    "colab": {
      "name": "Untitled10.ipynb",
      "provenance": [],
      "authorship_tag": "ABX9TyNRdzOE1cyvAEikSwdna3Dm",
      "include_colab_link": true
    },
    "kernelspec": {
      "name": "python3",
      "display_name": "Python 3"
    },
    "accelerator": "GPU"
  },
  "cells": [
    {
      "cell_type": "markdown",
      "metadata": {
        "id": "view-in-github",
        "colab_type": "text"
      },
      "source": [
        "<a href=\"https://colab.research.google.com/github/setyo-dwi-pratama/FGA-DTS-KOMINFO/blob/main/Untitled10.ipynb\" target=\"_parent\"><img src=\"https://colab.research.google.com/assets/colab-badge.svg\" alt=\"Open In Colab\"/></a>"
      ]
    },
    {
      "cell_type": "code",
      "metadata": {
        "id": "e3pVFJPJS89Y"
      },
      "source": [
        "import pandas as pd\n",
        "import numpy as np\n",
        "import matplotlib.pyplot as plt"
      ],
      "execution_count": 1,
      "outputs": []
    },
    {
      "cell_type": "code",
      "metadata": {
        "id": "HxN-DLCIVhfg"
      },
      "source": [
        "#https://raw.githubusercontent.com/setyo-dwi-pratama/FGA-DTS-KOMINFO/main/age_gender_bkts.csv\n",
        "#https://raw.githubusercontent.com/setyo-dwi-pratama/FGA-DTS-KOMINFO/main/countries.csv\n",
        "#https://raw.githubusercontent.com/setyo-dwi-pratama/FGA-DTS-KOMINFO/main/sample_submission_NDF.csv\n",
        "#https://raw.githubusercontent.com/setyo-dwi-pratama/FGA-DTS-KOMINFO/main/test_users.csv\n",
        "#https://raw.githubusercontent.com/setyo-dwi-pratama/FGA-DTS-KOMINFO/main/train_users_2.csv"
      ],
      "execution_count": 2,
      "outputs": []
    },
    {
      "cell_type": "code",
      "metadata": {
        "id": "B2Pt-Ng5mwbB"
      },
      "source": [
        "airbnb = pd.read_csv('https://raw.githubusercontent.com/setyo-dwi-pratama/FGA-DTS-KOMINFO/main/train_users_2.csv')"
      ],
      "execution_count": 3,
      "outputs": []
    },
    {
      "cell_type": "code",
      "metadata": {
        "id": "kcX7zwJOnEGX",
        "outputId": "0b3bea69-a841-4e7a-ecc1-23776ee6c1d6",
        "colab": {
          "base_uri": "https://localhost:8080/",
          "height": 251
        }
      },
      "source": [
        "airbnb.head()"
      ],
      "execution_count": 4,
      "outputs": [
        {
          "output_type": "execute_result",
          "data": {
            "text/html": [
              "<div>\n",
              "<style scoped>\n",
              "    .dataframe tbody tr th:only-of-type {\n",
              "        vertical-align: middle;\n",
              "    }\n",
              "\n",
              "    .dataframe tbody tr th {\n",
              "        vertical-align: top;\n",
              "    }\n",
              "\n",
              "    .dataframe thead th {\n",
              "        text-align: right;\n",
              "    }\n",
              "</style>\n",
              "<table border=\"1\" class=\"dataframe\">\n",
              "  <thead>\n",
              "    <tr style=\"text-align: right;\">\n",
              "      <th></th>\n",
              "      <th>id</th>\n",
              "      <th>date_account_created</th>\n",
              "      <th>timestamp_first_active</th>\n",
              "      <th>date_first_booking</th>\n",
              "      <th>gender</th>\n",
              "      <th>age</th>\n",
              "      <th>signup_method</th>\n",
              "      <th>signup_flow</th>\n",
              "      <th>language</th>\n",
              "      <th>affiliate_channel</th>\n",
              "      <th>affiliate_provider</th>\n",
              "      <th>first_affiliate_tracked</th>\n",
              "      <th>signup_app</th>\n",
              "      <th>first_device_type</th>\n",
              "      <th>first_browser</th>\n",
              "      <th>country_destination</th>\n",
              "    </tr>\n",
              "  </thead>\n",
              "  <tbody>\n",
              "    <tr>\n",
              "      <th>0</th>\n",
              "      <td>gxn3p5htnn</td>\n",
              "      <td>2010-06-28</td>\n",
              "      <td>20090319043255</td>\n",
              "      <td>NaN</td>\n",
              "      <td>-unknown-</td>\n",
              "      <td>NaN</td>\n",
              "      <td>facebook</td>\n",
              "      <td>0</td>\n",
              "      <td>en</td>\n",
              "      <td>direct</td>\n",
              "      <td>direct</td>\n",
              "      <td>untracked</td>\n",
              "      <td>Web</td>\n",
              "      <td>Mac Desktop</td>\n",
              "      <td>Chrome</td>\n",
              "      <td>NDF</td>\n",
              "    </tr>\n",
              "    <tr>\n",
              "      <th>1</th>\n",
              "      <td>820tgsjxq7</td>\n",
              "      <td>2011-05-25</td>\n",
              "      <td>20090523174809</td>\n",
              "      <td>NaN</td>\n",
              "      <td>MALE</td>\n",
              "      <td>38.0</td>\n",
              "      <td>facebook</td>\n",
              "      <td>0</td>\n",
              "      <td>en</td>\n",
              "      <td>seo</td>\n",
              "      <td>google</td>\n",
              "      <td>untracked</td>\n",
              "      <td>Web</td>\n",
              "      <td>Mac Desktop</td>\n",
              "      <td>Chrome</td>\n",
              "      <td>NDF</td>\n",
              "    </tr>\n",
              "    <tr>\n",
              "      <th>2</th>\n",
              "      <td>4ft3gnwmtx</td>\n",
              "      <td>2010-09-28</td>\n",
              "      <td>20090609231247</td>\n",
              "      <td>2010-08-02</td>\n",
              "      <td>FEMALE</td>\n",
              "      <td>56.0</td>\n",
              "      <td>basic</td>\n",
              "      <td>3</td>\n",
              "      <td>en</td>\n",
              "      <td>direct</td>\n",
              "      <td>direct</td>\n",
              "      <td>untracked</td>\n",
              "      <td>Web</td>\n",
              "      <td>Windows Desktop</td>\n",
              "      <td>IE</td>\n",
              "      <td>US</td>\n",
              "    </tr>\n",
              "    <tr>\n",
              "      <th>3</th>\n",
              "      <td>bjjt8pjhuk</td>\n",
              "      <td>2011-12-05</td>\n",
              "      <td>20091031060129</td>\n",
              "      <td>2012-09-08</td>\n",
              "      <td>FEMALE</td>\n",
              "      <td>42.0</td>\n",
              "      <td>facebook</td>\n",
              "      <td>0</td>\n",
              "      <td>en</td>\n",
              "      <td>direct</td>\n",
              "      <td>direct</td>\n",
              "      <td>untracked</td>\n",
              "      <td>Web</td>\n",
              "      <td>Mac Desktop</td>\n",
              "      <td>Firefox</td>\n",
              "      <td>other</td>\n",
              "    </tr>\n",
              "    <tr>\n",
              "      <th>4</th>\n",
              "      <td>87mebub9p4</td>\n",
              "      <td>2010-09-14</td>\n",
              "      <td>20091208061105</td>\n",
              "      <td>2010-02-18</td>\n",
              "      <td>-unknown-</td>\n",
              "      <td>41.0</td>\n",
              "      <td>basic</td>\n",
              "      <td>0</td>\n",
              "      <td>en</td>\n",
              "      <td>direct</td>\n",
              "      <td>direct</td>\n",
              "      <td>untracked</td>\n",
              "      <td>Web</td>\n",
              "      <td>Mac Desktop</td>\n",
              "      <td>Chrome</td>\n",
              "      <td>US</td>\n",
              "    </tr>\n",
              "  </tbody>\n",
              "</table>\n",
              "</div>"
            ],
            "text/plain": [
              "           id date_account_created  ...  first_browser country_destination\n",
              "0  gxn3p5htnn           2010-06-28  ...         Chrome                 NDF\n",
              "1  820tgsjxq7           2011-05-25  ...         Chrome                 NDF\n",
              "2  4ft3gnwmtx           2010-09-28  ...             IE                  US\n",
              "3  bjjt8pjhuk           2011-12-05  ...        Firefox               other\n",
              "4  87mebub9p4           2010-09-14  ...         Chrome                  US\n",
              "\n",
              "[5 rows x 16 columns]"
            ]
          },
          "metadata": {
            "tags": []
          },
          "execution_count": 4
        }
      ]
    },
    {
      "cell_type": "code",
      "metadata": {
        "id": "FopLv89xnHQI",
        "outputId": "53f00528-189c-4b41-ddfa-66e0108f04fc",
        "colab": {
          "base_uri": "https://localhost:8080/",
          "height": 425
        }
      },
      "source": [
        "airbnb.info()"
      ],
      "execution_count": 5,
      "outputs": [
        {
          "output_type": "stream",
          "text": [
            "<class 'pandas.core.frame.DataFrame'>\n",
            "RangeIndex: 213451 entries, 0 to 213450\n",
            "Data columns (total 16 columns):\n",
            " #   Column                   Non-Null Count   Dtype  \n",
            "---  ------                   --------------   -----  \n",
            " 0   id                       213451 non-null  object \n",
            " 1   date_account_created     213451 non-null  object \n",
            " 2   timestamp_first_active   213451 non-null  int64  \n",
            " 3   date_first_booking       88908 non-null   object \n",
            " 4   gender                   213451 non-null  object \n",
            " 5   age                      125461 non-null  float64\n",
            " 6   signup_method            213451 non-null  object \n",
            " 7   signup_flow              213451 non-null  int64  \n",
            " 8   language                 213451 non-null  object \n",
            " 9   affiliate_channel        213451 non-null  object \n",
            " 10  affiliate_provider       213451 non-null  object \n",
            " 11  first_affiliate_tracked  207386 non-null  object \n",
            " 12  signup_app               213451 non-null  object \n",
            " 13  first_device_type        213451 non-null  object \n",
            " 14  first_browser            213451 non-null  object \n",
            " 15  country_destination      213451 non-null  object \n",
            "dtypes: float64(1), int64(2), object(13)\n",
            "memory usage: 26.1+ MB\n"
          ],
          "name": "stdout"
        }
      ]
    },
    {
      "cell_type": "code",
      "metadata": {
        "id": "RyqDTHCQnkSV",
        "outputId": "028a9149-f6e4-4c48-a577-09e181fac5d0",
        "colab": {
          "base_uri": "https://localhost:8080/",
          "height": 318
        }
      },
      "source": [
        "airbnb.isnull().sum()"
      ],
      "execution_count": 6,
      "outputs": [
        {
          "output_type": "execute_result",
          "data": {
            "text/plain": [
              "id                              0\n",
              "date_account_created            0\n",
              "timestamp_first_active          0\n",
              "date_first_booking         124543\n",
              "gender                          0\n",
              "age                         87990\n",
              "signup_method                   0\n",
              "signup_flow                     0\n",
              "language                        0\n",
              "affiliate_channel               0\n",
              "affiliate_provider              0\n",
              "first_affiliate_tracked      6065\n",
              "signup_app                      0\n",
              "first_device_type               0\n",
              "first_browser                   0\n",
              "country_destination             0\n",
              "dtype: int64"
            ]
          },
          "metadata": {
            "tags": []
          },
          "execution_count": 6
        }
      ]
    },
    {
      "cell_type": "code",
      "metadata": {
        "id": "mE1v6fEqA7FN"
      },
      "source": [
        "df = airbnb.copy()"
      ],
      "execution_count": 7,
      "outputs": []
    },
    {
      "cell_type": "code",
      "metadata": {
        "id": "VdevmNIRnMzR"
      },
      "source": [
        "#Menghapus Missing Value\n",
        "df = df.dropna()"
      ],
      "execution_count": 10,
      "outputs": []
    },
    {
      "cell_type": "code",
      "metadata": {
        "id": "Wdsg5XiknWMu",
        "outputId": "e159fb9d-1733-4875-fc26-eb6cae737748",
        "colab": {
          "base_uri": "https://localhost:8080/",
          "height": 425
        }
      },
      "source": [
        "df.info()"
      ],
      "execution_count": 11,
      "outputs": [
        {
          "output_type": "stream",
          "text": [
            "<class 'pandas.core.frame.DataFrame'>\n",
            "Int64Index: 68171 entries, 2 to 213445\n",
            "Data columns (total 16 columns):\n",
            " #   Column                   Non-Null Count  Dtype  \n",
            "---  ------                   --------------  -----  \n",
            " 0   id                       68171 non-null  object \n",
            " 1   date_account_created     68171 non-null  object \n",
            " 2   timestamp_first_active   68171 non-null  int64  \n",
            " 3   date_first_booking       68171 non-null  object \n",
            " 4   gender                   68171 non-null  object \n",
            " 5   age                      68171 non-null  float64\n",
            " 6   signup_method            68171 non-null  object \n",
            " 7   signup_flow              68171 non-null  int64  \n",
            " 8   language                 68171 non-null  object \n",
            " 9   affiliate_channel        68171 non-null  object \n",
            " 10  affiliate_provider       68171 non-null  object \n",
            " 11  first_affiliate_tracked  68171 non-null  object \n",
            " 12  signup_app               68171 non-null  object \n",
            " 13  first_device_type        68171 non-null  object \n",
            " 14  first_browser            68171 non-null  object \n",
            " 15  country_destination      68171 non-null  object \n",
            "dtypes: float64(1), int64(2), object(13)\n",
            "memory usage: 8.8+ MB\n"
          ],
          "name": "stdout"
        }
      ]
    },
    {
      "cell_type": "code",
      "metadata": {
        "id": "1CrnVGVjBQK9"
      },
      "source": [
        "# Konversi 3 kolom kedalam datetime object\n",
        "df['date_account_created'] = pd.to_datetime(df['date_account_created'].astype(str))\n",
        "df['timestamp_first_active'] = pd.to_datetime(df['timestamp_first_active'].astype(str))\n",
        "df['date_first_booking'] = pd.to_datetime(df['date_first_booking'].astype(str))"
      ],
      "execution_count": 12,
      "outputs": []
    },
    {
      "cell_type": "code",
      "metadata": {
        "id": "RQOT0BdQCOKq",
        "outputId": "7fbb521c-c816-4785-c064-cf63bc1a5710",
        "colab": {
          "base_uri": "https://localhost:8080/",
          "height": 584
        }
      },
      "source": [
        "# Mengurutkan dataset berdasarkan date_account_created\n",
        "df.sort_values(by=['date_account_created'], ignore_index=True, inplace=True)\n",
        "df.head(15)"
      ],
      "execution_count": 13,
      "outputs": [
        {
          "output_type": "execute_result",
          "data": {
            "text/html": [
              "<div>\n",
              "<style scoped>\n",
              "    .dataframe tbody tr th:only-of-type {\n",
              "        vertical-align: middle;\n",
              "    }\n",
              "\n",
              "    .dataframe tbody tr th {\n",
              "        vertical-align: top;\n",
              "    }\n",
              "\n",
              "    .dataframe thead th {\n",
              "        text-align: right;\n",
              "    }\n",
              "</style>\n",
              "<table border=\"1\" class=\"dataframe\">\n",
              "  <thead>\n",
              "    <tr style=\"text-align: right;\">\n",
              "      <th></th>\n",
              "      <th>id</th>\n",
              "      <th>date_account_created</th>\n",
              "      <th>timestamp_first_active</th>\n",
              "      <th>date_first_booking</th>\n",
              "      <th>gender</th>\n",
              "      <th>age</th>\n",
              "      <th>signup_method</th>\n",
              "      <th>signup_flow</th>\n",
              "      <th>language</th>\n",
              "      <th>affiliate_channel</th>\n",
              "      <th>affiliate_provider</th>\n",
              "      <th>first_affiliate_tracked</th>\n",
              "      <th>signup_app</th>\n",
              "      <th>first_device_type</th>\n",
              "      <th>first_browser</th>\n",
              "      <th>country_destination</th>\n",
              "    </tr>\n",
              "  </thead>\n",
              "  <tbody>\n",
              "    <tr>\n",
              "      <th>0</th>\n",
              "      <td>lsw9q7uk0j</td>\n",
              "      <td>2010-01-02</td>\n",
              "      <td>2010-01-02 01:25:58</td>\n",
              "      <td>2010-01-05</td>\n",
              "      <td>FEMALE</td>\n",
              "      <td>46.0</td>\n",
              "      <td>basic</td>\n",
              "      <td>0</td>\n",
              "      <td>en</td>\n",
              "      <td>other</td>\n",
              "      <td>craigslist</td>\n",
              "      <td>untracked</td>\n",
              "      <td>Web</td>\n",
              "      <td>Mac Desktop</td>\n",
              "      <td>Safari</td>\n",
              "      <td>US</td>\n",
              "    </tr>\n",
              "    <tr>\n",
              "      <th>1</th>\n",
              "      <td>0d01nltbrs</td>\n",
              "      <td>2010-01-03</td>\n",
              "      <td>2010-01-03 19:19:05</td>\n",
              "      <td>2010-01-13</td>\n",
              "      <td>FEMALE</td>\n",
              "      <td>47.0</td>\n",
              "      <td>basic</td>\n",
              "      <td>0</td>\n",
              "      <td>en</td>\n",
              "      <td>direct</td>\n",
              "      <td>direct</td>\n",
              "      <td>omg</td>\n",
              "      <td>Web</td>\n",
              "      <td>Mac Desktop</td>\n",
              "      <td>Safari</td>\n",
              "      <td>US</td>\n",
              "    </tr>\n",
              "    <tr>\n",
              "      <th>2</th>\n",
              "      <td>a1vcnhxeij</td>\n",
              "      <td>2010-01-04</td>\n",
              "      <td>2010-01-04 00:42:11</td>\n",
              "      <td>2010-07-29</td>\n",
              "      <td>FEMALE</td>\n",
              "      <td>50.0</td>\n",
              "      <td>basic</td>\n",
              "      <td>0</td>\n",
              "      <td>en</td>\n",
              "      <td>other</td>\n",
              "      <td>craigslist</td>\n",
              "      <td>untracked</td>\n",
              "      <td>Web</td>\n",
              "      <td>Mac Desktop</td>\n",
              "      <td>Safari</td>\n",
              "      <td>US</td>\n",
              "    </tr>\n",
              "    <tr>\n",
              "      <th>3</th>\n",
              "      <td>6uh8zyj2gn</td>\n",
              "      <td>2010-01-04</td>\n",
              "      <td>2010-01-04 02:37:58</td>\n",
              "      <td>2010-01-04</td>\n",
              "      <td>-unknown-</td>\n",
              "      <td>46.0</td>\n",
              "      <td>basic</td>\n",
              "      <td>0</td>\n",
              "      <td>en</td>\n",
              "      <td>other</td>\n",
              "      <td>craigslist</td>\n",
              "      <td>omg</td>\n",
              "      <td>Web</td>\n",
              "      <td>Mac Desktop</td>\n",
              "      <td>Firefox</td>\n",
              "      <td>US</td>\n",
              "    </tr>\n",
              "    <tr>\n",
              "      <th>4</th>\n",
              "      <td>yuuqmid2rp</td>\n",
              "      <td>2010-01-04</td>\n",
              "      <td>2010-01-04 19:42:51</td>\n",
              "      <td>2010-01-06</td>\n",
              "      <td>FEMALE</td>\n",
              "      <td>36.0</td>\n",
              "      <td>basic</td>\n",
              "      <td>0</td>\n",
              "      <td>en</td>\n",
              "      <td>other</td>\n",
              "      <td>craigslist</td>\n",
              "      <td>untracked</td>\n",
              "      <td>Web</td>\n",
              "      <td>Mac Desktop</td>\n",
              "      <td>Firefox</td>\n",
              "      <td>US</td>\n",
              "    </tr>\n",
              "    <tr>\n",
              "      <th>5</th>\n",
              "      <td>v4d5rl22px</td>\n",
              "      <td>2010-01-07</td>\n",
              "      <td>2010-01-07 20:45:55</td>\n",
              "      <td>2010-01-08</td>\n",
              "      <td>FEMALE</td>\n",
              "      <td>33.0</td>\n",
              "      <td>basic</td>\n",
              "      <td>0</td>\n",
              "      <td>en</td>\n",
              "      <td>direct</td>\n",
              "      <td>direct</td>\n",
              "      <td>untracked</td>\n",
              "      <td>Web</td>\n",
              "      <td>Windows Desktop</td>\n",
              "      <td>Chrome</td>\n",
              "      <td>CA</td>\n",
              "    </tr>\n",
              "    <tr>\n",
              "      <th>6</th>\n",
              "      <td>gdka1q5ktd</td>\n",
              "      <td>2010-01-10</td>\n",
              "      <td>2010-01-10 01:08:17</td>\n",
              "      <td>2010-01-10</td>\n",
              "      <td>FEMALE</td>\n",
              "      <td>29.0</td>\n",
              "      <td>basic</td>\n",
              "      <td>0</td>\n",
              "      <td>en</td>\n",
              "      <td>direct</td>\n",
              "      <td>direct</td>\n",
              "      <td>untracked</td>\n",
              "      <td>Web</td>\n",
              "      <td>Mac Desktop</td>\n",
              "      <td>Chrome</td>\n",
              "      <td>FR</td>\n",
              "    </tr>\n",
              "    <tr>\n",
              "      <th>7</th>\n",
              "      <td>qsibmuz9sx</td>\n",
              "      <td>2010-01-10</td>\n",
              "      <td>2010-01-10 22:09:41</td>\n",
              "      <td>2010-01-11</td>\n",
              "      <td>MALE</td>\n",
              "      <td>30.0</td>\n",
              "      <td>basic</td>\n",
              "      <td>0</td>\n",
              "      <td>en</td>\n",
              "      <td>direct</td>\n",
              "      <td>direct</td>\n",
              "      <td>linked</td>\n",
              "      <td>Web</td>\n",
              "      <td>Mac Desktop</td>\n",
              "      <td>Chrome</td>\n",
              "      <td>US</td>\n",
              "    </tr>\n",
              "    <tr>\n",
              "      <th>8</th>\n",
              "      <td>80f7dwscrn</td>\n",
              "      <td>2010-01-11</td>\n",
              "      <td>2010-01-11 03:14:38</td>\n",
              "      <td>2010-01-11</td>\n",
              "      <td>-unknown-</td>\n",
              "      <td>40.0</td>\n",
              "      <td>basic</td>\n",
              "      <td>0</td>\n",
              "      <td>en</td>\n",
              "      <td>seo</td>\n",
              "      <td>google</td>\n",
              "      <td>untracked</td>\n",
              "      <td>Web</td>\n",
              "      <td>iPhone</td>\n",
              "      <td>-unknown-</td>\n",
              "      <td>US</td>\n",
              "    </tr>\n",
              "    <tr>\n",
              "      <th>9</th>\n",
              "      <td>hfrl5gle36</td>\n",
              "      <td>2010-01-12</td>\n",
              "      <td>2010-01-12 20:59:49</td>\n",
              "      <td>2010-01-22</td>\n",
              "      <td>FEMALE</td>\n",
              "      <td>32.0</td>\n",
              "      <td>basic</td>\n",
              "      <td>0</td>\n",
              "      <td>en</td>\n",
              "      <td>other</td>\n",
              "      <td>craigslist</td>\n",
              "      <td>untracked</td>\n",
              "      <td>Web</td>\n",
              "      <td>Desktop (Other)</td>\n",
              "      <td>Chrome</td>\n",
              "      <td>US</td>\n",
              "    </tr>\n",
              "    <tr>\n",
              "      <th>10</th>\n",
              "      <td>al8bcetz0g</td>\n",
              "      <td>2010-01-12</td>\n",
              "      <td>2010-01-12 13:14:44</td>\n",
              "      <td>2010-01-15</td>\n",
              "      <td>FEMALE</td>\n",
              "      <td>26.0</td>\n",
              "      <td>basic</td>\n",
              "      <td>0</td>\n",
              "      <td>en</td>\n",
              "      <td>other</td>\n",
              "      <td>craigslist</td>\n",
              "      <td>untracked</td>\n",
              "      <td>Web</td>\n",
              "      <td>Mac Desktop</td>\n",
              "      <td>Chrome</td>\n",
              "      <td>FR</td>\n",
              "    </tr>\n",
              "    <tr>\n",
              "      <th>11</th>\n",
              "      <td>hql77nu2lk</td>\n",
              "      <td>2010-01-13</td>\n",
              "      <td>2010-01-13 06:43:33</td>\n",
              "      <td>2010-01-19</td>\n",
              "      <td>-unknown-</td>\n",
              "      <td>37.0</td>\n",
              "      <td>basic</td>\n",
              "      <td>0</td>\n",
              "      <td>en</td>\n",
              "      <td>direct</td>\n",
              "      <td>direct</td>\n",
              "      <td>untracked</td>\n",
              "      <td>Web</td>\n",
              "      <td>Android Tablet</td>\n",
              "      <td>-unknown-</td>\n",
              "      <td>US</td>\n",
              "    </tr>\n",
              "    <tr>\n",
              "      <th>12</th>\n",
              "      <td>cheova4spt</td>\n",
              "      <td>2010-01-14</td>\n",
              "      <td>2010-01-14 02:52:57</td>\n",
              "      <td>2010-01-24</td>\n",
              "      <td>-unknown-</td>\n",
              "      <td>42.0</td>\n",
              "      <td>basic</td>\n",
              "      <td>0</td>\n",
              "      <td>en</td>\n",
              "      <td>other</td>\n",
              "      <td>craigslist</td>\n",
              "      <td>untracked</td>\n",
              "      <td>Web</td>\n",
              "      <td>Mac Desktop</td>\n",
              "      <td>Firefox</td>\n",
              "      <td>FR</td>\n",
              "    </tr>\n",
              "    <tr>\n",
              "      <th>13</th>\n",
              "      <td>7my0vrljxc</td>\n",
              "      <td>2010-01-15</td>\n",
              "      <td>2010-01-15 22:19:29</td>\n",
              "      <td>2010-01-15</td>\n",
              "      <td>FEMALE</td>\n",
              "      <td>31.0</td>\n",
              "      <td>basic</td>\n",
              "      <td>0</td>\n",
              "      <td>en</td>\n",
              "      <td>direct</td>\n",
              "      <td>direct</td>\n",
              "      <td>linked</td>\n",
              "      <td>Web</td>\n",
              "      <td>Mac Desktop</td>\n",
              "      <td>Safari</td>\n",
              "      <td>US</td>\n",
              "    </tr>\n",
              "    <tr>\n",
              "      <th>14</th>\n",
              "      <td>k15j7mbny0</td>\n",
              "      <td>2010-01-19</td>\n",
              "      <td>2010-01-19 01:36:16</td>\n",
              "      <td>2010-01-21</td>\n",
              "      <td>FEMALE</td>\n",
              "      <td>30.0</td>\n",
              "      <td>basic</td>\n",
              "      <td>0</td>\n",
              "      <td>en</td>\n",
              "      <td>direct</td>\n",
              "      <td>direct</td>\n",
              "      <td>untracked</td>\n",
              "      <td>Web</td>\n",
              "      <td>Mac Desktop</td>\n",
              "      <td>Chrome</td>\n",
              "      <td>US</td>\n",
              "    </tr>\n",
              "  </tbody>\n",
              "</table>\n",
              "</div>"
            ],
            "text/plain": [
              "            id date_account_created  ... first_browser country_destination\n",
              "0   lsw9q7uk0j           2010-01-02  ...        Safari                  US\n",
              "1   0d01nltbrs           2010-01-03  ...        Safari                  US\n",
              "2   a1vcnhxeij           2010-01-04  ...        Safari                  US\n",
              "3   6uh8zyj2gn           2010-01-04  ...       Firefox                  US\n",
              "4   yuuqmid2rp           2010-01-04  ...       Firefox                  US\n",
              "5   v4d5rl22px           2010-01-07  ...        Chrome                  CA\n",
              "6   gdka1q5ktd           2010-01-10  ...        Chrome                  FR\n",
              "7   qsibmuz9sx           2010-01-10  ...        Chrome                  US\n",
              "8   80f7dwscrn           2010-01-11  ...     -unknown-                  US\n",
              "9   hfrl5gle36           2010-01-12  ...        Chrome                  US\n",
              "10  al8bcetz0g           2010-01-12  ...        Chrome                  FR\n",
              "11  hql77nu2lk           2010-01-13  ...     -unknown-                  US\n",
              "12  cheova4spt           2010-01-14  ...       Firefox                  FR\n",
              "13  7my0vrljxc           2010-01-15  ...        Safari                  US\n",
              "14  k15j7mbny0           2010-01-19  ...        Chrome                  US\n",
              "\n",
              "[15 rows x 16 columns]"
            ]
          },
          "metadata": {
            "tags": []
          },
          "execution_count": 13
        }
      ]
    },
    {
      "cell_type": "code",
      "metadata": {
        "id": "fYeHIVAqCcLM",
        "outputId": "2bb837f4-a066-4cff-fd68-244c28b13793",
        "colab": {
          "base_uri": "https://localhost:8080/",
          "height": 443
        }
      },
      "source": [
        "# Selisih waktu antara bikin akun pertama dengan pesen pertama kali, contohnya untuk 0 hari > dia membuat akun dan langsung memesan nya\n",
        "\n",
        "# Membuat Kolom baru (selisih)\n",
        "df['selisih_pesanan'] = df['date_first_booking']-df['date_account_created']\n",
        "df"
      ],
      "execution_count": 14,
      "outputs": [
        {
          "output_type": "execute_result",
          "data": {
            "text/html": [
              "<div>\n",
              "<style scoped>\n",
              "    .dataframe tbody tr th:only-of-type {\n",
              "        vertical-align: middle;\n",
              "    }\n",
              "\n",
              "    .dataframe tbody tr th {\n",
              "        vertical-align: top;\n",
              "    }\n",
              "\n",
              "    .dataframe thead th {\n",
              "        text-align: right;\n",
              "    }\n",
              "</style>\n",
              "<table border=\"1\" class=\"dataframe\">\n",
              "  <thead>\n",
              "    <tr style=\"text-align: right;\">\n",
              "      <th></th>\n",
              "      <th>id</th>\n",
              "      <th>date_account_created</th>\n",
              "      <th>timestamp_first_active</th>\n",
              "      <th>date_first_booking</th>\n",
              "      <th>gender</th>\n",
              "      <th>age</th>\n",
              "      <th>signup_method</th>\n",
              "      <th>signup_flow</th>\n",
              "      <th>language</th>\n",
              "      <th>affiliate_channel</th>\n",
              "      <th>affiliate_provider</th>\n",
              "      <th>first_affiliate_tracked</th>\n",
              "      <th>signup_app</th>\n",
              "      <th>first_device_type</th>\n",
              "      <th>first_browser</th>\n",
              "      <th>country_destination</th>\n",
              "      <th>selisih_pesanan</th>\n",
              "    </tr>\n",
              "  </thead>\n",
              "  <tbody>\n",
              "    <tr>\n",
              "      <th>0</th>\n",
              "      <td>lsw9q7uk0j</td>\n",
              "      <td>2010-01-02</td>\n",
              "      <td>2010-01-02 01:25:58</td>\n",
              "      <td>2010-01-05</td>\n",
              "      <td>FEMALE</td>\n",
              "      <td>46.0</td>\n",
              "      <td>basic</td>\n",
              "      <td>0</td>\n",
              "      <td>en</td>\n",
              "      <td>other</td>\n",
              "      <td>craigslist</td>\n",
              "      <td>untracked</td>\n",
              "      <td>Web</td>\n",
              "      <td>Mac Desktop</td>\n",
              "      <td>Safari</td>\n",
              "      <td>US</td>\n",
              "      <td>3 days</td>\n",
              "    </tr>\n",
              "    <tr>\n",
              "      <th>1</th>\n",
              "      <td>0d01nltbrs</td>\n",
              "      <td>2010-01-03</td>\n",
              "      <td>2010-01-03 19:19:05</td>\n",
              "      <td>2010-01-13</td>\n",
              "      <td>FEMALE</td>\n",
              "      <td>47.0</td>\n",
              "      <td>basic</td>\n",
              "      <td>0</td>\n",
              "      <td>en</td>\n",
              "      <td>direct</td>\n",
              "      <td>direct</td>\n",
              "      <td>omg</td>\n",
              "      <td>Web</td>\n",
              "      <td>Mac Desktop</td>\n",
              "      <td>Safari</td>\n",
              "      <td>US</td>\n",
              "      <td>10 days</td>\n",
              "    </tr>\n",
              "    <tr>\n",
              "      <th>2</th>\n",
              "      <td>a1vcnhxeij</td>\n",
              "      <td>2010-01-04</td>\n",
              "      <td>2010-01-04 00:42:11</td>\n",
              "      <td>2010-07-29</td>\n",
              "      <td>FEMALE</td>\n",
              "      <td>50.0</td>\n",
              "      <td>basic</td>\n",
              "      <td>0</td>\n",
              "      <td>en</td>\n",
              "      <td>other</td>\n",
              "      <td>craigslist</td>\n",
              "      <td>untracked</td>\n",
              "      <td>Web</td>\n",
              "      <td>Mac Desktop</td>\n",
              "      <td>Safari</td>\n",
              "      <td>US</td>\n",
              "      <td>206 days</td>\n",
              "    </tr>\n",
              "    <tr>\n",
              "      <th>3</th>\n",
              "      <td>6uh8zyj2gn</td>\n",
              "      <td>2010-01-04</td>\n",
              "      <td>2010-01-04 02:37:58</td>\n",
              "      <td>2010-01-04</td>\n",
              "      <td>-unknown-</td>\n",
              "      <td>46.0</td>\n",
              "      <td>basic</td>\n",
              "      <td>0</td>\n",
              "      <td>en</td>\n",
              "      <td>other</td>\n",
              "      <td>craigslist</td>\n",
              "      <td>omg</td>\n",
              "      <td>Web</td>\n",
              "      <td>Mac Desktop</td>\n",
              "      <td>Firefox</td>\n",
              "      <td>US</td>\n",
              "      <td>0 days</td>\n",
              "    </tr>\n",
              "    <tr>\n",
              "      <th>4</th>\n",
              "      <td>yuuqmid2rp</td>\n",
              "      <td>2010-01-04</td>\n",
              "      <td>2010-01-04 19:42:51</td>\n",
              "      <td>2010-01-06</td>\n",
              "      <td>FEMALE</td>\n",
              "      <td>36.0</td>\n",
              "      <td>basic</td>\n",
              "      <td>0</td>\n",
              "      <td>en</td>\n",
              "      <td>other</td>\n",
              "      <td>craigslist</td>\n",
              "      <td>untracked</td>\n",
              "      <td>Web</td>\n",
              "      <td>Mac Desktop</td>\n",
              "      <td>Firefox</td>\n",
              "      <td>US</td>\n",
              "      <td>2 days</td>\n",
              "    </tr>\n",
              "    <tr>\n",
              "      <th>...</th>\n",
              "      <td>...</td>\n",
              "      <td>...</td>\n",
              "      <td>...</td>\n",
              "      <td>...</td>\n",
              "      <td>...</td>\n",
              "      <td>...</td>\n",
              "      <td>...</td>\n",
              "      <td>...</td>\n",
              "      <td>...</td>\n",
              "      <td>...</td>\n",
              "      <td>...</td>\n",
              "      <td>...</td>\n",
              "      <td>...</td>\n",
              "      <td>...</td>\n",
              "      <td>...</td>\n",
              "      <td>...</td>\n",
              "      <td>...</td>\n",
              "    </tr>\n",
              "    <tr>\n",
              "      <th>68166</th>\n",
              "      <td>b1295z8xc2</td>\n",
              "      <td>2014-06-30</td>\n",
              "      <td>2014-06-30 06:57:47</td>\n",
              "      <td>2014-07-01</td>\n",
              "      <td>FEMALE</td>\n",
              "      <td>28.0</td>\n",
              "      <td>basic</td>\n",
              "      <td>0</td>\n",
              "      <td>en</td>\n",
              "      <td>direct</td>\n",
              "      <td>direct</td>\n",
              "      <td>linked</td>\n",
              "      <td>Web</td>\n",
              "      <td>iPad</td>\n",
              "      <td>Mobile Safari</td>\n",
              "      <td>US</td>\n",
              "      <td>1 days</td>\n",
              "    </tr>\n",
              "    <tr>\n",
              "      <th>68167</th>\n",
              "      <td>e92h789jtp</td>\n",
              "      <td>2014-06-30</td>\n",
              "      <td>2014-06-30 07:26:27</td>\n",
              "      <td>2014-06-30</td>\n",
              "      <td>FEMALE</td>\n",
              "      <td>35.0</td>\n",
              "      <td>basic</td>\n",
              "      <td>0</td>\n",
              "      <td>en</td>\n",
              "      <td>direct</td>\n",
              "      <td>direct</td>\n",
              "      <td>untracked</td>\n",
              "      <td>Web</td>\n",
              "      <td>iPhone</td>\n",
              "      <td>Mobile Safari</td>\n",
              "      <td>GB</td>\n",
              "      <td>0 days</td>\n",
              "    </tr>\n",
              "    <tr>\n",
              "      <th>68168</th>\n",
              "      <td>4tsleqkx0q</td>\n",
              "      <td>2014-06-30</td>\n",
              "      <td>2014-06-30 07:38:20</td>\n",
              "      <td>2014-07-12</td>\n",
              "      <td>MALE</td>\n",
              "      <td>19.0</td>\n",
              "      <td>basic</td>\n",
              "      <td>0</td>\n",
              "      <td>en</td>\n",
              "      <td>direct</td>\n",
              "      <td>direct</td>\n",
              "      <td>linked</td>\n",
              "      <td>Web</td>\n",
              "      <td>Windows Desktop</td>\n",
              "      <td>Firefox</td>\n",
              "      <td>US</td>\n",
              "      <td>12 days</td>\n",
              "    </tr>\n",
              "    <tr>\n",
              "      <th>68169</th>\n",
              "      <td>cqx80tf3su</td>\n",
              "      <td>2014-06-30</td>\n",
              "      <td>2014-06-30 15:28:12</td>\n",
              "      <td>2015-03-13</td>\n",
              "      <td>MALE</td>\n",
              "      <td>25.0</td>\n",
              "      <td>basic</td>\n",
              "      <td>0</td>\n",
              "      <td>en</td>\n",
              "      <td>direct</td>\n",
              "      <td>direct</td>\n",
              "      <td>product</td>\n",
              "      <td>Web</td>\n",
              "      <td>Windows Desktop</td>\n",
              "      <td>IE</td>\n",
              "      <td>US</td>\n",
              "      <td>256 days</td>\n",
              "    </tr>\n",
              "    <tr>\n",
              "      <th>68170</th>\n",
              "      <td>qbxza0xojf</td>\n",
              "      <td>2014-06-30</td>\n",
              "      <td>2014-06-30 23:55:47</td>\n",
              "      <td>2014-07-02</td>\n",
              "      <td>FEMALE</td>\n",
              "      <td>23.0</td>\n",
              "      <td>basic</td>\n",
              "      <td>0</td>\n",
              "      <td>en</td>\n",
              "      <td>sem-brand</td>\n",
              "      <td>google</td>\n",
              "      <td>omg</td>\n",
              "      <td>Web</td>\n",
              "      <td>Windows Desktop</td>\n",
              "      <td>IE</td>\n",
              "      <td>US</td>\n",
              "      <td>2 days</td>\n",
              "    </tr>\n",
              "  </tbody>\n",
              "</table>\n",
              "<p>68171 rows × 17 columns</p>\n",
              "</div>"
            ],
            "text/plain": [
              "               id date_account_created  ... country_destination selisih_pesanan\n",
              "0      lsw9q7uk0j           2010-01-02  ...                  US          3 days\n",
              "1      0d01nltbrs           2010-01-03  ...                  US         10 days\n",
              "2      a1vcnhxeij           2010-01-04  ...                  US        206 days\n",
              "3      6uh8zyj2gn           2010-01-04  ...                  US          0 days\n",
              "4      yuuqmid2rp           2010-01-04  ...                  US          2 days\n",
              "...           ...                  ...  ...                 ...             ...\n",
              "68166  b1295z8xc2           2014-06-30  ...                  US          1 days\n",
              "68167  e92h789jtp           2014-06-30  ...                  GB          0 days\n",
              "68168  4tsleqkx0q           2014-06-30  ...                  US         12 days\n",
              "68169  cqx80tf3su           2014-06-30  ...                  US        256 days\n",
              "68170  qbxza0xojf           2014-06-30  ...                  US          2 days\n",
              "\n",
              "[68171 rows x 17 columns]"
            ]
          },
          "metadata": {
            "tags": []
          },
          "execution_count": 14
        }
      ]
    },
    {
      "cell_type": "code",
      "metadata": {
        "id": "jV1eazWyodoA",
        "outputId": "c54e79a6-746a-46e9-ad4a-ffcd597b43a4",
        "colab": {
          "base_uri": "https://localhost:8080/",
          "height": 301
        }
      },
      "source": [
        "# Melihat selisih pesanan \n",
        "# hasil = Kebanyakan pelanggan baru adalah pelanggan yang melakukan pemesanan di hari awal pembuatan akun\n",
        "liat_selisih_pesanan =df['selisih_pesanan'].value_counts()\n",
        "liat_selisih_pesanan.head(15)"
      ],
      "execution_count": 19,
      "outputs": [
        {
          "output_type": "execute_result",
          "data": {
            "text/plain": [
              "0 days     14924\n",
              "1 days     10671\n",
              "2 days      4839\n",
              "3 days      2982\n",
              "4 days      2197\n",
              "5 days      1709\n",
              "6 days      1345\n",
              "7 days      1245\n",
              "8 days      1001\n",
              "9 days       812\n",
              "10 days      674\n",
              "11 days      614\n",
              "12 days      529\n",
              "13 days      522\n",
              "14 days      499\n",
              "Name: selisih_pesanan, dtype: int64"
            ]
          },
          "metadata": {
            "tags": []
          },
          "execution_count": 19
        }
      ]
    },
    {
      "cell_type": "code",
      "metadata": {
        "id": "lHUN3TpApGsd",
        "outputId": "b082c3b6-9f2a-4a36-99be-d8c9735caaa7",
        "colab": {
          "base_uri": "https://localhost:8080/",
          "height": 325
        }
      },
      "source": [
        "df.gender.value_counts().plot(kind='bar')"
      ],
      "execution_count": 20,
      "outputs": [
        {
          "output_type": "execute_result",
          "data": {
            "text/plain": [
              "<matplotlib.axes._subplots.AxesSubplot at 0x7f5a4fae98d0>"
            ]
          },
          "metadata": {
            "tags": []
          },
          "execution_count": 20
        },
        {
          "output_type": "display_data",
          "data": {
            "image/png": "[encoded data removed]",
            "text/plain": [
              "<Figure size 432x288 with 1 Axes>"
            ]
          },
          "metadata": {
            "tags": [],
            "needs_background": "light"
          }
        }
      ]
    },
    {
      "cell_type": "code",
      "metadata": {
        "id": "_hI07LLBqUIe",
        "outputId": "42ba1264-a872-42a3-ba31-297567d50c4a",
        "colab": {
          "base_uri": "https://localhost:8080/",
          "height": 234
        }
      },
      "source": [
        "df.head()"
      ],
      "execution_count": 22,
      "outputs": [
        {
          "output_type": "execute_result",
          "data": {
            "text/html": [
              "<div>\n",
              "<style scoped>\n",
              "    .dataframe tbody tr th:only-of-type {\n",
              "        vertical-align: middle;\n",
              "    }\n",
              "\n",
              "    .dataframe tbody tr th {\n",
              "        vertical-align: top;\n",
              "    }\n",
              "\n",
              "    .dataframe thead th {\n",
              "        text-align: right;\n",
              "    }\n",
              "</style>\n",
              "<table border=\"1\" class=\"dataframe\">\n",
              "  <thead>\n",
              "    <tr style=\"text-align: right;\">\n",
              "      <th></th>\n",
              "      <th>id</th>\n",
              "      <th>date_account_created</th>\n",
              "      <th>timestamp_first_active</th>\n",
              "      <th>date_first_booking</th>\n",
              "      <th>gender</th>\n",
              "      <th>age</th>\n",
              "      <th>signup_method</th>\n",
              "      <th>signup_flow</th>\n",
              "      <th>language</th>\n",
              "      <th>affiliate_channel</th>\n",
              "      <th>affiliate_provider</th>\n",
              "      <th>first_affiliate_tracked</th>\n",
              "      <th>signup_app</th>\n",
              "      <th>first_device_type</th>\n",
              "      <th>first_browser</th>\n",
              "      <th>country_destination</th>\n",
              "      <th>selisih_pesanan</th>\n",
              "    </tr>\n",
              "  </thead>\n",
              "  <tbody>\n",
              "    <tr>\n",
              "      <th>0</th>\n",
              "      <td>lsw9q7uk0j</td>\n",
              "      <td>2010-01-02</td>\n",
              "      <td>2010-01-02 01:25:58</td>\n",
              "      <td>2010-01-05</td>\n",
              "      <td>FEMALE</td>\n",
              "      <td>46.0</td>\n",
              "      <td>basic</td>\n",
              "      <td>0</td>\n",
              "      <td>en</td>\n",
              "      <td>other</td>\n",
              "      <td>craigslist</td>\n",
              "      <td>untracked</td>\n",
              "      <td>Web</td>\n",
              "      <td>Mac Desktop</td>\n",
              "      <td>Safari</td>\n",
              "      <td>US</td>\n",
              "      <td>3 days</td>\n",
              "    </tr>\n",
              "    <tr>\n",
              "      <th>1</th>\n",
              "      <td>0d01nltbrs</td>\n",
              "      <td>2010-01-03</td>\n",
              "      <td>2010-01-03 19:19:05</td>\n",
              "      <td>2010-01-13</td>\n",
              "      <td>FEMALE</td>\n",
              "      <td>47.0</td>\n",
              "      <td>basic</td>\n",
              "      <td>0</td>\n",
              "      <td>en</td>\n",
              "      <td>direct</td>\n",
              "      <td>direct</td>\n",
              "      <td>omg</td>\n",
              "      <td>Web</td>\n",
              "      <td>Mac Desktop</td>\n",
              "      <td>Safari</td>\n",
              "      <td>US</td>\n",
              "      <td>10 days</td>\n",
              "    </tr>\n",
              "    <tr>\n",
              "      <th>2</th>\n",
              "      <td>a1vcnhxeij</td>\n",
              "      <td>2010-01-04</td>\n",
              "      <td>2010-01-04 00:42:11</td>\n",
              "      <td>2010-07-29</td>\n",
              "      <td>FEMALE</td>\n",
              "      <td>50.0</td>\n",
              "      <td>basic</td>\n",
              "      <td>0</td>\n",
              "      <td>en</td>\n",
              "      <td>other</td>\n",
              "      <td>craigslist</td>\n",
              "      <td>untracked</td>\n",
              "      <td>Web</td>\n",
              "      <td>Mac Desktop</td>\n",
              "      <td>Safari</td>\n",
              "      <td>US</td>\n",
              "      <td>206 days</td>\n",
              "    </tr>\n",
              "    <tr>\n",
              "      <th>3</th>\n",
              "      <td>6uh8zyj2gn</td>\n",
              "      <td>2010-01-04</td>\n",
              "      <td>2010-01-04 02:37:58</td>\n",
              "      <td>2010-01-04</td>\n",
              "      <td>-unknown-</td>\n",
              "      <td>46.0</td>\n",
              "      <td>basic</td>\n",
              "      <td>0</td>\n",
              "      <td>en</td>\n",
              "      <td>other</td>\n",
              "      <td>craigslist</td>\n",
              "      <td>omg</td>\n",
              "      <td>Web</td>\n",
              "      <td>Mac Desktop</td>\n",
              "      <td>Firefox</td>\n",
              "      <td>US</td>\n",
              "      <td>0 days</td>\n",
              "    </tr>\n",
              "    <tr>\n",
              "      <th>4</th>\n",
              "      <td>yuuqmid2rp</td>\n",
              "      <td>2010-01-04</td>\n",
              "      <td>2010-01-04 19:42:51</td>\n",
              "      <td>2010-01-06</td>\n",
              "      <td>FEMALE</td>\n",
              "      <td>36.0</td>\n",
              "      <td>basic</td>\n",
              "      <td>0</td>\n",
              "      <td>en</td>\n",
              "      <td>other</td>\n",
              "      <td>craigslist</td>\n",
              "      <td>untracked</td>\n",
              "      <td>Web</td>\n",
              "      <td>Mac Desktop</td>\n",
              "      <td>Firefox</td>\n",
              "      <td>US</td>\n",
              "      <td>2 days</td>\n",
              "    </tr>\n",
              "  </tbody>\n",
              "</table>\n",
              "</div>"
            ],
            "text/plain": [
              "           id date_account_created  ... country_destination selisih_pesanan\n",
              "0  lsw9q7uk0j           2010-01-02  ...                  US          3 days\n",
              "1  0d01nltbrs           2010-01-03  ...                  US         10 days\n",
              "2  a1vcnhxeij           2010-01-04  ...                  US        206 days\n",
              "3  6uh8zyj2gn           2010-01-04  ...                  US          0 days\n",
              "4  yuuqmid2rp           2010-01-04  ...                  US          2 days\n",
              "\n",
              "[5 rows x 17 columns]"
            ]
          },
          "metadata": {
            "tags": []
          },
          "execution_count": 22
        }
      ]
    },
    {
      "cell_type": "code",
      "metadata": {
        "id": "I07h6R5Eqans",
        "outputId": "4583f0e8-e362-4a57-e47b-cff00070b1b9",
        "colab": {
          "base_uri": "https://localhost:8080/",
          "height": 301
        }
      },
      "source": [
        "df.country_destination.value_counts().plot(kind='bar')"
      ],
      "execution_count": 23,
      "outputs": [
        {
          "output_type": "execute_result",
          "data": {
            "text/plain": [
              "<matplotlib.axes._subplots.AxesSubplot at 0x7f5a4f224390>"
            ]
          },
          "metadata": {
            "tags": []
          },
          "execution_count": 23
        },
        {
          "output_type": "display_data",
          "data": {
            "image/png": "[encoded data removed]",
            "text/plain": [
              "<Figure size 432x288 with 1 Axes>"
            ]
          },
          "metadata": {
            "tags": [],
            "needs_background": "light"
          }
        }
      ]
    },
    {
      "cell_type": "code",
      "metadata": {
        "id": "A-VQ-pwbqv46",
        "outputId": "aed6b508-3619-48bd-dc9f-bc6cb64763b3",
        "colab": {
          "base_uri": "https://localhost:8080/",
          "height": 285
        }
      },
      "source": [
        "df.language.value_counts().plot(kind='bar')"
      ],
      "execution_count": 24,
      "outputs": [
        {
          "output_type": "execute_result",
          "data": {
            "text/plain": [
              "<matplotlib.axes._subplots.AxesSubplot at 0x7f5a4f18ebe0>"
            ]
          },
          "metadata": {
            "tags": []
          },
          "execution_count": 24
        },
        {
          "output_type": "display_data",
          "data": {
            "image/png": "[encoded data removed]",
            "text/plain": [
              "<Figure size 432x288 with 1 Axes>"
            ]
          },
          "metadata": {
            "tags": [],
            "needs_background": "light"
          }
        }
      ]
    },
    {
      "cell_type": "code",
      "metadata": {
        "id": "iIoS3Gfpq0oE",
        "outputId": "3be492df-d73b-4893-afd3-f65758f0fe55",
        "colab": {
          "base_uri": "https://localhost:8080/",
          "height": 318
        }
      },
      "source": [
        "df.signup_method.value_counts().plot(kind='bar')"
      ],
      "execution_count": 25,
      "outputs": [
        {
          "output_type": "execute_result",
          "data": {
            "text/plain": [
              "<matplotlib.axes._subplots.AxesSubplot at 0x7f5a4f0ddd68>"
            ]
          },
          "metadata": {
            "tags": []
          },
          "execution_count": 25
        },
        {
          "output_type": "display_data",
          "data": {
            "image/png": "[encoded data removed]",
            "text/plain": [
              "<Figure size 432x288 with 1 Axes>"
            ]
          },
          "metadata": {
            "tags": [],
            "needs_background": "light"
          }
        }
      ]
    },
    {
      "cell_type": "code",
      "metadata": {
        "id": "ddwSlvAiq-A8",
        "outputId": "ac6c2f43-1f87-46da-ef94-f8381f24711b",
        "colab": {
          "base_uri": "https://localhost:8080/",
          "height": 350
        }
      },
      "source": [
        "df.affiliate_channel.value_counts().plot(kind='bar')"
      ],
      "execution_count": 26,
      "outputs": [
        {
          "output_type": "execute_result",
          "data": {
            "text/plain": [
              "<matplotlib.axes._subplots.AxesSubplot at 0x7f5a4f0a1f98>"
            ]
          },
          "metadata": {
            "tags": []
          },
          "execution_count": 26
        },
        {
          "output_type": "display_data",
          "data": {
            "image/png": "[encoded data removed]",
            "text/plain": [
              "<Figure size 432x288 with 1 Axes>"
            ]
          },
          "metadata": {
            "tags": [],
            "needs_background": "light"
          }
        }
      ]
    },
    {
      "cell_type": "code",
      "metadata": {
        "id": "axJFmbJOrC9s",
        "outputId": "3571fd8f-47d7-4022-ae38-ea1a32dc993b",
        "colab": {
          "base_uri": "https://localhost:8080/",
          "height": 380
        }
      },
      "source": [
        "df.affiliate_provider.value_counts().plot(kind='bar')"
      ],
      "execution_count": 27,
      "outputs": [
        {
          "output_type": "execute_result",
          "data": {
            "text/plain": [
              "<matplotlib.axes._subplots.AxesSubplot at 0x7f5a4f0d9f28>"
            ]
          },
          "metadata": {
            "tags": []
          },
          "execution_count": 27
        },
        {
          "output_type": "display_data",
          "data": {
            "image/png": "[encoded data removed]",
            "text/plain": [
              "<Figure size 432x288 with 1 Axes>"
            ]
          },
          "metadata": {
            "tags": [],
            "needs_background": "light"
          }
        }
      ]
    },
    {
      "cell_type": "code",
      "metadata": {
        "id": "ePZMWWFYrINV",
        "outputId": "b4b5ea1d-2724-4d99-dfb2-f5755e2b2a82",
        "colab": {
          "base_uri": "https://localhost:8080/",
          "height": 312
        }
      },
      "source": [
        "df.signup_app.value_counts().plot(kind='bar')"
      ],
      "execution_count": 28,
      "outputs": [
        {
          "output_type": "execute_result",
          "data": {
            "text/plain": [
              "<matplotlib.axes._subplots.AxesSubplot at 0x7f5a4efc2cf8>"
            ]
          },
          "metadata": {
            "tags": []
          },
          "execution_count": 28
        },
        {
          "output_type": "display_data",
          "data": {
            "image/png": "[encoded data removed]",
            "text/plain": [
              "<Figure size 432x288 with 1 Axes>"
            ]
          },
          "metadata": {
            "tags": [],
            "needs_background": "light"
          }
        }
      ]
    },
    {
      "cell_type": "code",
      "metadata": {
        "id": "dcjxWNsurM7F",
        "outputId": "b05bdf34-312d-4926-c8d3-2acf5fbe4392",
        "colab": {
          "base_uri": "https://localhost:8080/",
          "height": 373
        }
      },
      "source": [
        "df.first_device_type.value_counts().plot(kind='bar')"
      ],
      "execution_count": 29,
      "outputs": [
        {
          "output_type": "execute_result",
          "data": {
            "text/plain": [
              "<matplotlib.axes._subplots.AxesSubplot at 0x7f5a4ef1dd68>"
            ]
          },
          "metadata": {
            "tags": []
          },
          "execution_count": 29
        },
        {
          "output_type": "display_data",
          "data": {
            "image/png": "[encoded data removed]",
            "text/plain": [
              "<Figure size 432x288 with 1 Axes>"
            ]
          },
          "metadata": {
            "tags": [],
            "needs_background": "light"
          }
        }
      ]
    },
    {
      "cell_type": "code",
      "metadata": {
        "id": "F2EOaqxhrTSp",
        "outputId": "0063486b-9dd2-4124-c0ae-1db038023862",
        "colab": {
          "base_uri": "https://localhost:8080/",
          "height": 371
        }
      },
      "source": [
        "df.first_browser.value_counts().plot(kind='bar')"
      ],
      "execution_count": 30,
      "outputs": [
        {
          "output_type": "execute_result",
          "data": {
            "text/plain": [
              "<matplotlib.axes._subplots.AxesSubplot at 0x7f5a4ef25f60>"
            ]
          },
          "metadata": {
            "tags": []
          },
          "execution_count": 30
        },
        {
          "output_type": "display_data",
          "data": {
            "image/png": "[encoded data removed]",
            "text/plain": [
              "<Figure size 432x288 with 1 Axes>"
            ]
          },
          "metadata": {
            "tags": [],
            "needs_background": "light"
          }
        }
      ]
    },
    {
      "cell_type": "code",
      "metadata": {
        "id": "Inh5CdWCrZK4"
      },
      "source": [
        ""
      ],
      "execution_count": null,
      "outputs": []
    }
  ]
}